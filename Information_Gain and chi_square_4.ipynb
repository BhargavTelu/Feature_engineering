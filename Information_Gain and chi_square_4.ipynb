{
 "cells": [
  {
   "cell_type": "code",
   "execution_count": 40,
   "id": "d2574d19",
   "metadata": {},
   "outputs": [],
   "source": [
    "import pandas as pd"
   ]
  },
  {
   "cell_type": "code",
   "execution_count": 41,
   "id": "304bef62",
   "metadata": {},
   "outputs": [],
   "source": [
    "df = pd.read_csv(\"mobile_dataset.csv\")"
   ]
  },
  {
   "cell_type": "code",
   "execution_count": 42,
   "id": "4632584d",
   "metadata": {},
   "outputs": [
    {
     "data": {
      "text/html": [
       "<div>\n",
       "<style scoped>\n",
       "    .dataframe tbody tr th:only-of-type {\n",
       "        vertical-align: middle;\n",
       "    }\n",
       "\n",
       "    .dataframe tbody tr th {\n",
       "        vertical-align: top;\n",
       "    }\n",
       "\n",
       "    .dataframe thead th {\n",
       "        text-align: right;\n",
       "    }\n",
       "</style>\n",
       "<table border=\"1\" class=\"dataframe\">\n",
       "  <thead>\n",
       "    <tr style=\"text-align: right;\">\n",
       "      <th></th>\n",
       "      <th>battery_power</th>\n",
       "      <th>blue</th>\n",
       "      <th>clock_speed</th>\n",
       "      <th>dual_sim</th>\n",
       "      <th>fc</th>\n",
       "      <th>four_g</th>\n",
       "      <th>int_memory</th>\n",
       "      <th>m_dep</th>\n",
       "      <th>mobile_wt</th>\n",
       "      <th>n_cores</th>\n",
       "      <th>...</th>\n",
       "      <th>px_height</th>\n",
       "      <th>px_width</th>\n",
       "      <th>ram</th>\n",
       "      <th>sc_h</th>\n",
       "      <th>sc_w</th>\n",
       "      <th>talk_time</th>\n",
       "      <th>three_g</th>\n",
       "      <th>touch_screen</th>\n",
       "      <th>wifi</th>\n",
       "      <th>price_range</th>\n",
       "    </tr>\n",
       "  </thead>\n",
       "  <tbody>\n",
       "    <tr>\n",
       "      <th>0</th>\n",
       "      <td>842</td>\n",
       "      <td>0</td>\n",
       "      <td>2.2</td>\n",
       "      <td>0</td>\n",
       "      <td>1</td>\n",
       "      <td>0</td>\n",
       "      <td>7</td>\n",
       "      <td>0.6</td>\n",
       "      <td>188</td>\n",
       "      <td>2</td>\n",
       "      <td>...</td>\n",
       "      <td>20</td>\n",
       "      <td>756</td>\n",
       "      <td>2549</td>\n",
       "      <td>9</td>\n",
       "      <td>7</td>\n",
       "      <td>19</td>\n",
       "      <td>0</td>\n",
       "      <td>0</td>\n",
       "      <td>1</td>\n",
       "      <td>1</td>\n",
       "    </tr>\n",
       "    <tr>\n",
       "      <th>1</th>\n",
       "      <td>1021</td>\n",
       "      <td>1</td>\n",
       "      <td>0.5</td>\n",
       "      <td>1</td>\n",
       "      <td>0</td>\n",
       "      <td>1</td>\n",
       "      <td>53</td>\n",
       "      <td>0.7</td>\n",
       "      <td>136</td>\n",
       "      <td>3</td>\n",
       "      <td>...</td>\n",
       "      <td>905</td>\n",
       "      <td>1988</td>\n",
       "      <td>2631</td>\n",
       "      <td>17</td>\n",
       "      <td>3</td>\n",
       "      <td>7</td>\n",
       "      <td>1</td>\n",
       "      <td>1</td>\n",
       "      <td>0</td>\n",
       "      <td>2</td>\n",
       "    </tr>\n",
       "    <tr>\n",
       "      <th>2</th>\n",
       "      <td>563</td>\n",
       "      <td>1</td>\n",
       "      <td>0.5</td>\n",
       "      <td>1</td>\n",
       "      <td>2</td>\n",
       "      <td>1</td>\n",
       "      <td>41</td>\n",
       "      <td>0.9</td>\n",
       "      <td>145</td>\n",
       "      <td>5</td>\n",
       "      <td>...</td>\n",
       "      <td>1263</td>\n",
       "      <td>1716</td>\n",
       "      <td>2603</td>\n",
       "      <td>11</td>\n",
       "      <td>2</td>\n",
       "      <td>9</td>\n",
       "      <td>1</td>\n",
       "      <td>1</td>\n",
       "      <td>0</td>\n",
       "      <td>2</td>\n",
       "    </tr>\n",
       "    <tr>\n",
       "      <th>3</th>\n",
       "      <td>615</td>\n",
       "      <td>1</td>\n",
       "      <td>2.5</td>\n",
       "      <td>0</td>\n",
       "      <td>0</td>\n",
       "      <td>0</td>\n",
       "      <td>10</td>\n",
       "      <td>0.8</td>\n",
       "      <td>131</td>\n",
       "      <td>6</td>\n",
       "      <td>...</td>\n",
       "      <td>1216</td>\n",
       "      <td>1786</td>\n",
       "      <td>2769</td>\n",
       "      <td>16</td>\n",
       "      <td>8</td>\n",
       "      <td>11</td>\n",
       "      <td>1</td>\n",
       "      <td>0</td>\n",
       "      <td>0</td>\n",
       "      <td>2</td>\n",
       "    </tr>\n",
       "    <tr>\n",
       "      <th>4</th>\n",
       "      <td>1821</td>\n",
       "      <td>1</td>\n",
       "      <td>1.2</td>\n",
       "      <td>0</td>\n",
       "      <td>13</td>\n",
       "      <td>1</td>\n",
       "      <td>44</td>\n",
       "      <td>0.6</td>\n",
       "      <td>141</td>\n",
       "      <td>2</td>\n",
       "      <td>...</td>\n",
       "      <td>1208</td>\n",
       "      <td>1212</td>\n",
       "      <td>1411</td>\n",
       "      <td>8</td>\n",
       "      <td>2</td>\n",
       "      <td>15</td>\n",
       "      <td>1</td>\n",
       "      <td>1</td>\n",
       "      <td>0</td>\n",
       "      <td>1</td>\n",
       "    </tr>\n",
       "  </tbody>\n",
       "</table>\n",
       "<p>5 rows × 21 columns</p>\n",
       "</div>"
      ],
      "text/plain": [
       "   battery_power  blue  clock_speed  dual_sim  fc  four_g  int_memory  m_dep  \\\n",
       "0            842     0          2.2         0   1       0           7    0.6   \n",
       "1           1021     1          0.5         1   0       1          53    0.7   \n",
       "2            563     1          0.5         1   2       1          41    0.9   \n",
       "3            615     1          2.5         0   0       0          10    0.8   \n",
       "4           1821     1          1.2         0  13       1          44    0.6   \n",
       "\n",
       "   mobile_wt  n_cores  ...  px_height  px_width   ram  sc_h  sc_w  talk_time  \\\n",
       "0        188        2  ...         20       756  2549     9     7         19   \n",
       "1        136        3  ...        905      1988  2631    17     3          7   \n",
       "2        145        5  ...       1263      1716  2603    11     2          9   \n",
       "3        131        6  ...       1216      1786  2769    16     8         11   \n",
       "4        141        2  ...       1208      1212  1411     8     2         15   \n",
       "\n",
       "   three_g  touch_screen  wifi  price_range  \n",
       "0        0             0     1            1  \n",
       "1        1             1     0            2  \n",
       "2        1             1     0            2  \n",
       "3        1             0     0            2  \n",
       "4        1             1     0            1  \n",
       "\n",
       "[5 rows x 21 columns]"
      ]
     },
     "execution_count": 42,
     "metadata": {},
     "output_type": "execute_result"
    }
   ],
   "source": [
    "df.head()"
   ]
  },
  {
   "cell_type": "code",
   "execution_count": 43,
   "id": "e3182b81",
   "metadata": {},
   "outputs": [
    {
     "data": {
      "text/plain": [
       "array([0, 1], dtype=int64)"
      ]
     },
     "execution_count": 43,
     "metadata": {},
     "output_type": "execute_result"
    }
   ],
   "source": [
    "df[\"blue\"].unique()"
   ]
  },
  {
   "cell_type": "code",
   "execution_count": 44,
   "id": "eb43c89e",
   "metadata": {},
   "outputs": [
    {
     "name": "stdout",
     "output_type": "stream",
     "text": [
      "<class 'pandas.core.frame.DataFrame'>\n",
      "RangeIndex: 2000 entries, 0 to 1999\n",
      "Data columns (total 21 columns):\n",
      " #   Column         Non-Null Count  Dtype  \n",
      "---  ------         --------------  -----  \n",
      " 0   battery_power  2000 non-null   int64  \n",
      " 1   blue           2000 non-null   int64  \n",
      " 2   clock_speed    2000 non-null   float64\n",
      " 3   dual_sim       2000 non-null   int64  \n",
      " 4   fc             2000 non-null   int64  \n",
      " 5   four_g         2000 non-null   int64  \n",
      " 6   int_memory     2000 non-null   int64  \n",
      " 7   m_dep          2000 non-null   float64\n",
      " 8   mobile_wt      2000 non-null   int64  \n",
      " 9   n_cores        2000 non-null   int64  \n",
      " 10  pc             2000 non-null   int64  \n",
      " 11  px_height      2000 non-null   int64  \n",
      " 12  px_width       2000 non-null   int64  \n",
      " 13  ram            2000 non-null   int64  \n",
      " 14  sc_h           2000 non-null   int64  \n",
      " 15  sc_w           2000 non-null   int64  \n",
      " 16  talk_time      2000 non-null   int64  \n",
      " 17  three_g        2000 non-null   int64  \n",
      " 18  touch_screen   2000 non-null   int64  \n",
      " 19  wifi           2000 non-null   int64  \n",
      " 20  price_range    2000 non-null   int64  \n",
      "dtypes: float64(2), int64(19)\n",
      "memory usage: 328.2 KB\n"
     ]
    }
   ],
   "source": [
    "df.info()"
   ]
  },
  {
   "cell_type": "code",
   "execution_count": 45,
   "id": "63a132b9",
   "metadata": {},
   "outputs": [],
   "source": [
    "from sklearn.model_selection import train_test_split\n",
    "X_train,X_test,y_train,y_test = train_test_split(df.drop(\"price_range\", axis =1), df[\"price_range\"], \n",
    "                                                 test_size=0.2,random_state=33)"
   ]
  },
  {
   "cell_type": "markdown",
   "id": "a3c6e69a",
   "metadata": {},
   "source": [
    "### Information Gain or mutual Information"
   ]
  },
  {
   "cell_type": "code",
   "execution_count": 12,
   "id": "65a696c6",
   "metadata": {},
   "outputs": [
    {
     "data": {
      "text/plain": [
       "array([0.0250471 , 0.        , 0.00389796, 0.00940397, 0.        ,\n",
       "       0.        , 0.00846235, 0.0069663 , 0.02845348, 0.01562809,\n",
       "       0.00352903, 0.02137424, 0.0122207 , 0.8339922 , 0.        ,\n",
       "       0.00368531, 0.        , 0.0023011 , 0.0219074 , 0.00892213])"
      ]
     },
     "execution_count": 12,
     "metadata": {},
     "output_type": "execute_result"
    }
   ],
   "source": [
    "from sklearn.feature_selection import mutual_info_classif\n",
    "info_gain = mutual_info_classif(X_train,y_train)\n",
    "info_gain"
   ]
  },
  {
   "cell_type": "code",
   "execution_count": 19,
   "id": "c0df9b02",
   "metadata": {},
   "outputs": [
    {
     "data": {
      "text/plain": [
       "ram              0.833992\n",
       "mobile_wt        0.028453\n",
       "battery_power    0.025047\n",
       "touch_screen     0.021907\n",
       "px_height        0.021374\n",
       "n_cores          0.015628\n",
       "px_width         0.012221\n",
       "dual_sim         0.009404\n",
       "wifi             0.008922\n",
       "int_memory       0.008462\n",
       "m_dep            0.006966\n",
       "clock_speed      0.003898\n",
       "sc_w             0.003685\n",
       "pc               0.003529\n",
       "three_g          0.002301\n",
       "blue             0.000000\n",
       "four_g           0.000000\n",
       "fc               0.000000\n",
       "sc_h             0.000000\n",
       "talk_time        0.000000\n",
       "dtype: float64"
      ]
     },
     "execution_count": 19,
     "metadata": {},
     "output_type": "execute_result"
    }
   ],
   "source": [
    "info = pd.Series(info_gain, index = X_train.columns)\n",
    "info.sort_values(ascending = False)"
   ]
  },
  {
   "cell_type": "code",
   "execution_count": 20,
   "id": "8e8badb2",
   "metadata": {},
   "outputs": [],
   "source": [
    "from sklearn.feature_selection import SelectKBest"
   ]
  },
  {
   "cell_type": "code",
   "execution_count": 21,
   "id": "09cc9dce",
   "metadata": {},
   "outputs": [
    {
     "data": {
      "text/plain": [
       "Index(['battery_power', 'px_height', 'ram', 'sc_h', 'wifi'], dtype='object')"
      ]
     },
     "execution_count": 21,
     "metadata": {},
     "output_type": "execute_result"
    }
   ],
   "source": [
    "sel_fiv_col = SelectKBest(mutual_info_classif,k=5)\n",
    "sel_fiv_col.fit(X_train,y_train)\n",
    "X_train.columns[sel_fiv_col.get_support()]"
   ]
  },
  {
   "cell_type": "markdown",
   "id": "c96aa105",
   "metadata": {},
   "source": [
    "### ChiSquare or Fisher score"
   ]
  },
  {
   "cell_type": "code",
   "execution_count": 46,
   "id": "7244f3e8",
   "metadata": {},
   "outputs": [],
   "source": [
    "from sklearn.feature_selection import chi2"
   ]
  },
  {
   "cell_type": "code",
   "execution_count": 47,
   "id": "236eeca4",
   "metadata": {},
   "outputs": [
    {
     "data": {
      "text/plain": [
       "(array([1.04454069e+04, 8.98020893e-01, 1.61619985e+00, 5.52455234e-01,\n",
       "        5.47337129e+00, 2.33672317e+00, 6.74634805e+01, 6.24823162e-01,\n",
       "        8.54746955e+01, 6.80785924e+00, 5.30203458e+00, 1.53215226e+04,\n",
       "        7.05499624e+03, 7.27482797e+05, 7.34607023e+00, 3.67140352e+00,\n",
       "        5.51894899e+00, 4.40792923e-01, 8.62537181e-01, 7.71548033e-01]),\n",
       " array([0.00000000e+00, 8.25905387e-01, 6.55722215e-01, 9.07225008e-01,\n",
       "        1.40240013e-01, 5.05522250e-01, 1.49027312e-14, 8.90726901e-01,\n",
       "        2.05238683e-18, 7.82807541e-02, 1.50970424e-01, 0.00000000e+00,\n",
       "        0.00000000e+00, 0.00000000e+00, 6.16483098e-02, 2.99202552e-01,\n",
       "        1.37509641e-01, 9.31692506e-01, 8.34457718e-01, 8.56259554e-01]))"
      ]
     },
     "execution_count": 47,
     "metadata": {},
     "output_type": "execute_result"
    }
   ],
   "source": [
    "chi_test = chi2(X_train,y_train)\n",
    "chi_test"
   ]
  },
  {
   "cell_type": "code",
   "execution_count": 48,
   "id": "161188e7",
   "metadata": {},
   "outputs": [
    {
     "data": {
      "text/plain": [
       "battery_power    0.000000e+00\n",
       "ram              0.000000e+00\n",
       "px_width         0.000000e+00\n",
       "px_height        0.000000e+00\n",
       "mobile_wt        2.052387e-18\n",
       "int_memory       1.490273e-14\n",
       "sc_h             6.164831e-02\n",
       "n_cores          7.828075e-02\n",
       "talk_time        1.375096e-01\n",
       "fc               1.402400e-01\n",
       "pc               1.509704e-01\n",
       "sc_w             2.992026e-01\n",
       "four_g           5.055222e-01\n",
       "clock_speed      6.557222e-01\n",
       "blue             8.259054e-01\n",
       "touch_screen     8.344577e-01\n",
       "wifi             8.562596e-01\n",
       "m_dep            8.907269e-01\n",
       "dual_sim         9.072250e-01\n",
       "three_g          9.316925e-01\n",
       "dtype: float64"
      ]
     },
     "execution_count": 48,
     "metadata": {},
     "output_type": "execute_result"
    }
   ],
   "source": [
    "chi_test = pd.Series(chi_test[1], index = X_train.columns)\n",
    "chi_test.sort_values(ascending=True)"
   ]
  },
  {
   "cell_type": "markdown",
   "id": "02f98e89",
   "metadata": {},
   "source": [
    "- battery_power    0.000000e+00\n",
    "- ram              0.000000e+00\n",
    "- px_width         0.000000e+00\n",
    "- px_height        0.000000e+00\n",
    "- mobile_wt        2.052387e-18 \n",
    "- These 5 features have pvalue lower which means best features"
   ]
  },
  {
   "cell_type": "code",
   "execution_count": null,
   "id": "8953185f",
   "metadata": {},
   "outputs": [],
   "source": []
  }
 ],
 "metadata": {
  "kernelspec": {
   "display_name": "Python 3 (ipykernel)",
   "language": "python",
   "name": "python3"
  },
  "language_info": {
   "codemirror_mode": {
    "name": "ipython",
    "version": 3
   },
   "file_extension": ".py",
   "mimetype": "text/x-python",
   "name": "python",
   "nbconvert_exporter": "python",
   "pygments_lexer": "ipython3",
   "version": "3.9.13"
  }
 },
 "nbformat": 4,
 "nbformat_minor": 5
}
