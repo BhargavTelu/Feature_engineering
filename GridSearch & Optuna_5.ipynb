{
 "cells": [
  {
   "cell_type": "markdown",
   "id": "386fc6f8",
   "metadata": {},
   "source": [
    "# Don't use Grid search or randomized search instead use optuna or genetic "
   ]
  },
  {
   "cell_type": "code",
   "execution_count": 21,
   "id": "8e3184b7",
   "metadata": {},
   "outputs": [],
   "source": [
    "import pandas as pd\n",
    "import numpy as np\n",
    "from sklearn.model_selection import train_test_split, GridSearchCV, RandomizedSearchCV\n",
    "from sklearn.metrics import confusion_matrix, accuracy_score, classification_report\n",
    "from sklearn.ensemble import RandomForestClassifier\n"
   ]
  },
  {
   "cell_type": "code",
   "execution_count": 22,
   "id": "be752a76",
   "metadata": {},
   "outputs": [],
   "source": [
    "import warnings\n",
    "warnings.filterwarnings(\"ignore\")"
   ]
  },
  {
   "cell_type": "code",
   "execution_count": 23,
   "id": "5c57fc15",
   "metadata": {},
   "outputs": [
    {
     "data": {
      "text/html": [
       "<div>\n",
       "<style scoped>\n",
       "    .dataframe tbody tr th:only-of-type {\n",
       "        vertical-align: middle;\n",
       "    }\n",
       "\n",
       "    .dataframe tbody tr th {\n",
       "        vertical-align: top;\n",
       "    }\n",
       "\n",
       "    .dataframe thead th {\n",
       "        text-align: right;\n",
       "    }\n",
       "</style>\n",
       "<table border=\"1\" class=\"dataframe\">\n",
       "  <thead>\n",
       "    <tr style=\"text-align: right;\">\n",
       "      <th></th>\n",
       "      <th>Pregnancies</th>\n",
       "      <th>Glucose</th>\n",
       "      <th>BloodPressure</th>\n",
       "      <th>SkinThickness</th>\n",
       "      <th>Insulin</th>\n",
       "      <th>BMI</th>\n",
       "      <th>DiabetesPedigreeFunction</th>\n",
       "      <th>Age</th>\n",
       "      <th>Outcome</th>\n",
       "    </tr>\n",
       "  </thead>\n",
       "  <tbody>\n",
       "    <tr>\n",
       "      <th>0</th>\n",
       "      <td>6</td>\n",
       "      <td>148</td>\n",
       "      <td>72</td>\n",
       "      <td>35</td>\n",
       "      <td>0</td>\n",
       "      <td>33.6</td>\n",
       "      <td>0.627</td>\n",
       "      <td>50</td>\n",
       "      <td>1</td>\n",
       "    </tr>\n",
       "    <tr>\n",
       "      <th>1</th>\n",
       "      <td>1</td>\n",
       "      <td>85</td>\n",
       "      <td>66</td>\n",
       "      <td>29</td>\n",
       "      <td>0</td>\n",
       "      <td>26.6</td>\n",
       "      <td>0.351</td>\n",
       "      <td>31</td>\n",
       "      <td>0</td>\n",
       "    </tr>\n",
       "    <tr>\n",
       "      <th>2</th>\n",
       "      <td>8</td>\n",
       "      <td>183</td>\n",
       "      <td>64</td>\n",
       "      <td>0</td>\n",
       "      <td>0</td>\n",
       "      <td>23.3</td>\n",
       "      <td>0.672</td>\n",
       "      <td>32</td>\n",
       "      <td>1</td>\n",
       "    </tr>\n",
       "    <tr>\n",
       "      <th>3</th>\n",
       "      <td>1</td>\n",
       "      <td>89</td>\n",
       "      <td>66</td>\n",
       "      <td>23</td>\n",
       "      <td>94</td>\n",
       "      <td>28.1</td>\n",
       "      <td>0.167</td>\n",
       "      <td>21</td>\n",
       "      <td>0</td>\n",
       "    </tr>\n",
       "    <tr>\n",
       "      <th>4</th>\n",
       "      <td>0</td>\n",
       "      <td>137</td>\n",
       "      <td>40</td>\n",
       "      <td>35</td>\n",
       "      <td>168</td>\n",
       "      <td>43.1</td>\n",
       "      <td>2.288</td>\n",
       "      <td>33</td>\n",
       "      <td>1</td>\n",
       "    </tr>\n",
       "  </tbody>\n",
       "</table>\n",
       "</div>"
      ],
      "text/plain": [
       "   Pregnancies  Glucose  BloodPressure  SkinThickness  Insulin   BMI  \\\n",
       "0            6      148             72             35        0  33.6   \n",
       "1            1       85             66             29        0  26.6   \n",
       "2            8      183             64              0        0  23.3   \n",
       "3            1       89             66             23       94  28.1   \n",
       "4            0      137             40             35      168  43.1   \n",
       "\n",
       "   DiabetesPedigreeFunction  Age  Outcome  \n",
       "0                     0.627   50        1  \n",
       "1                     0.351   31        0  \n",
       "2                     0.672   32        1  \n",
       "3                     0.167   21        0  \n",
       "4                     2.288   33        1  "
      ]
     },
     "execution_count": 23,
     "metadata": {},
     "output_type": "execute_result"
    }
   ],
   "source": [
    "df = pd.read_csv(\"diabetes.csv\")\n",
    "df.head(5)"
   ]
  },
  {
   "cell_type": "code",
   "execution_count": 24,
   "id": "00ffddbc",
   "metadata": {},
   "outputs": [
    {
     "name": "stdout",
     "output_type": "stream",
     "text": [
      "<class 'pandas.core.frame.DataFrame'>\n",
      "RangeIndex: 768 entries, 0 to 767\n",
      "Data columns (total 9 columns):\n",
      " #   Column                    Non-Null Count  Dtype  \n",
      "---  ------                    --------------  -----  \n",
      " 0   Pregnancies               768 non-null    int64  \n",
      " 1   Glucose                   768 non-null    int64  \n",
      " 2   BloodPressure             768 non-null    int64  \n",
      " 3   SkinThickness             768 non-null    int64  \n",
      " 4   Insulin                   768 non-null    int64  \n",
      " 5   BMI                       768 non-null    float64\n",
      " 6   DiabetesPedigreeFunction  768 non-null    float64\n",
      " 7   Age                       768 non-null    int64  \n",
      " 8   Outcome                   768 non-null    int64  \n",
      "dtypes: float64(2), int64(7)\n",
      "memory usage: 54.1 KB\n"
     ]
    }
   ],
   "source": [
    "df.info()"
   ]
  },
  {
   "cell_type": "code",
   "execution_count": 25,
   "id": "341099b1",
   "metadata": {},
   "outputs": [],
   "source": [
    "df[\"Insulin\"]=np.where(df[\"Insulin\"]==0,df[\"Insulin\"].median(), df[\"Insulin\"])\n",
    "df[\"Glucose\"] = np.where(df[\"Glucose\"]==0, df[\"Glucose\"].median(),df[\"Glucose\"])"
   ]
  },
  {
   "cell_type": "code",
   "execution_count": 26,
   "id": "09a68883",
   "metadata": {},
   "outputs": [],
   "source": [
    "X= df.drop(columns=\"Outcome\")\n",
    "y=df[\"Outcome\"]"
   ]
  },
  {
   "cell_type": "code",
   "execution_count": 27,
   "id": "25163959",
   "metadata": {},
   "outputs": [],
   "source": [
    "X_train,X_test,y_train,y_test = train_test_split(X,y,test_size=0.2,random_state=0)"
   ]
  },
  {
   "cell_type": "code",
   "execution_count": 28,
   "id": "b5971078",
   "metadata": {},
   "outputs": [
    {
     "data": {
      "text/plain": [
       "RandomForestClassifier()"
      ]
     },
     "execution_count": 28,
     "metadata": {},
     "output_type": "execute_result"
    }
   ],
   "source": [
    "RForest = RandomForestClassifier()\n",
    "RForest.fit(X_train,y_train)\n"
   ]
  },
  {
   "cell_type": "code",
   "execution_count": 29,
   "id": "48c13f07",
   "metadata": {},
   "outputs": [],
   "source": [
    "RFpred = RForest.predict(X_test)"
   ]
  },
  {
   "cell_type": "code",
   "execution_count": 30,
   "id": "2e0a4e6f",
   "metadata": {},
   "outputs": [
    {
     "name": "stdout",
     "output_type": "stream",
     "text": [
      "              precision    recall  f1-score   support\n",
      "\n",
      "           0       0.86      0.89      0.88       107\n",
      "           1       0.73      0.68      0.70        47\n",
      "\n",
      "    accuracy                           0.82       154\n",
      "   macro avg       0.80      0.78      0.79       154\n",
      "weighted avg       0.82      0.82      0.82       154\n",
      "\n"
     ]
    }
   ],
   "source": [
    "print(classification_report(y_test,RFpred))"
   ]
  },
  {
   "cell_type": "markdown",
   "id": "01756d89",
   "metadata": {},
   "source": [
    "### RandomizersearchCV and GridsearchCV"
   ]
  },
  {
   "cell_type": "code",
   "execution_count": 31,
   "id": "d3a5439f",
   "metadata": {},
   "outputs": [
    {
     "name": "stdout",
     "output_type": "stream",
     "text": [
      "{'n_estimators': [200, 400, 600, 800, 1000, 1200, 1400, 1600, 1800], 'max_features': ['auto', 'sqrt', 'log2'], 'max_depth': [10, 110, 210, 310, 410, 510, 610, 710, 810, 910], 'min_samples_split': [2, 5, 10, 14], 'min_samples_leaf': [1, 2, 4, 6, 8], 'criterion': ['entropy', 'gini']}\n"
     ]
    }
   ],
   "source": [
    "n_estimators = list(range(200,2000,200)) #[int(x) for x in np.linspace(start = 200, stop = 2000, num = 10)]\n",
    "max_features = ['auto', 'sqrt','log2']\n",
    "max_depth = list(range(10,1000,100)) #[int(x) for x in np.linspace(10, 1000,10)]\n",
    "# Minimum number of samples required to split a node\n",
    "min_samples_split = [2, 5, 10,14]\n",
    "# Minimum number of samples required at each leaf node\n",
    "min_samples_leaf = [1, 2, 4,6,8]\n",
    "# Create the random grid\n",
    "random_grid = {'n_estimators': n_estimators,\n",
    "               'max_features': max_features,\n",
    "               'max_depth': max_depth,\n",
    "               'min_samples_split': min_samples_split,\n",
    "               'min_samples_leaf': min_samples_leaf,\n",
    "              'criterion':['entropy','gini']}\n",
    "print(random_grid)"
   ]
  },
  {
   "cell_type": "code",
   "execution_count": 32,
   "id": "2d784342",
   "metadata": {},
   "outputs": [
    {
     "name": "stdout",
     "output_type": "stream",
     "text": [
      "Fitting 3 folds for each of 10 candidates, totalling 30 fits\n"
     ]
    },
    {
     "data": {
      "text/plain": [
       "RandomizedSearchCV(cv=3, estimator=RandomForestClassifier(), n_jobs=-1,\n",
       "                   param_distributions={'criterion': ['entropy', 'gini'],\n",
       "                                        'max_depth': [10, 110, 210, 310, 410,\n",
       "                                                      510, 610, 710, 810, 910],\n",
       "                                        'max_features': ['auto', 'sqrt',\n",
       "                                                         'log2'],\n",
       "                                        'min_samples_leaf': [1, 2, 4, 6, 8],\n",
       "                                        'min_samples_split': [2, 5, 10, 14],\n",
       "                                        'n_estimators': [200, 400, 600, 800,\n",
       "                                                         1000, 1200, 1400, 1600,\n",
       "                                                         1800]},\n",
       "                   random_state=33, verbose=2)"
      ]
     },
     "execution_count": 32,
     "metadata": {},
     "output_type": "execute_result"
    }
   ],
   "source": [
    "rf = RandomForestClassifier()\n",
    "rfrandomcv = RandomizedSearchCV(estimator=rf, param_distributions=random_grid, cv=3,\n",
    "                                n_iter=10,n_jobs=-1,verbose=2, random_state=33)\n",
    "rfrandomcv.fit(X_train,y_train)"
   ]
  },
  {
   "cell_type": "code",
   "execution_count": 33,
   "id": "2b110447",
   "metadata": {},
   "outputs": [
    {
     "data": {
      "text/plain": [
       "RandomForestClassifier(max_depth=310, min_samples_leaf=8, min_samples_split=10,\n",
       "                       n_estimators=1400)"
      ]
     },
     "execution_count": 33,
     "metadata": {},
     "output_type": "execute_result"
    }
   ],
   "source": [
    "rfrandomcv.best_estimator_"
   ]
  },
  {
   "cell_type": "code",
   "execution_count": 34,
   "id": "1d2b9b46",
   "metadata": {},
   "outputs": [
    {
     "data": {
      "text/plain": [
       "{'n_estimators': 1400,\n",
       " 'min_samples_split': 10,\n",
       " 'min_samples_leaf': 8,\n",
       " 'max_features': 'auto',\n",
       " 'max_depth': 310,\n",
       " 'criterion': 'gini'}"
      ]
     },
     "execution_count": 34,
     "metadata": {},
     "output_type": "execute_result"
    }
   ],
   "source": [
    "rfrandomcv.best_params_"
   ]
  },
  {
   "cell_type": "markdown",
   "id": "386fa3eb",
   "metadata": {},
   "source": [
    "### Grid Search"
   ]
  },
  {
   "cell_type": "code",
   "execution_count": 14,
   "id": "099d33e7",
   "metadata": {},
   "outputs": [
    {
     "name": "stdout",
     "output_type": "stream",
     "text": [
      "{'criterion': ['entropy'], 'max_depth': [10], 'max_features': ['auto'], 'min_samples_leaf': [2, 4, 6], 'min_samples_split': [8, 9, 10, 11, 12], 'n_estimators': [600, 700, 800, 900, 1000]}\n"
     ]
    }
   ],
   "source": [
    "from sklearn.model_selection import GridSearchCV\n",
    "\n",
    "param_grid = {\n",
    "    'criterion': [rfrandomcv.best_params_['criterion']],\n",
    "    'max_depth': [rfrandomcv.best_params_['max_depth']],\n",
    "    'max_features': [rfrandomcv.best_params_['max_features']],\n",
    "    'min_samples_leaf': [rfrandomcv.best_params_['min_samples_leaf'], \n",
    "                         rfrandomcv.best_params_['min_samples_leaf']+2, \n",
    "                         rfrandomcv.best_params_['min_samples_leaf'] + 4],\n",
    "    'min_samples_split': [rfrandomcv.best_params_['min_samples_split'] - 2,\n",
    "                          rfrandomcv.best_params_['min_samples_split'] - 1,\n",
    "                          rfrandomcv.best_params_['min_samples_split'], \n",
    "                          rfrandomcv.best_params_['min_samples_split'] +1,\n",
    "                          rfrandomcv.best_params_['min_samples_split'] + 2],\n",
    "    'n_estimators': [rfrandomcv.best_params_['n_estimators'] - 200, rfrandomcv.best_params_['n_estimators'] - 100, \n",
    "                     rfrandomcv.best_params_['n_estimators'], \n",
    "                     rfrandomcv.best_params_['n_estimators'] + 100, rfrandomcv.best_params_['n_estimators'] + 200]\n",
    "}\n",
    "\n",
    "print(param_grid)"
   ]
  },
  {
   "cell_type": "code",
   "execution_count": 16,
   "id": "f19393d0",
   "metadata": {},
   "outputs": [
    {
     "name": "stdout",
     "output_type": "stream",
     "text": [
      "Fitting 5 folds for each of 75 candidates, totalling 375 fits\n"
     ]
    },
    {
     "data": {
      "text/plain": [
       "GridSearchCV(cv=5, estimator=RandomForestClassifier(), n_jobs=-1,\n",
       "             param_grid={'criterion': ['entropy'], 'max_depth': [10],\n",
       "                         'max_features': ['auto'],\n",
       "                         'min_samples_leaf': [2, 4, 6],\n",
       "                         'min_samples_split': [8, 9, 10, 11, 12],\n",
       "                         'n_estimators': [600, 700, 800, 900, 1000]},\n",
       "             verbose=2)"
      ]
     },
     "execution_count": 16,
     "metadata": {},
     "output_type": "execute_result"
    }
   ],
   "source": [
    "#### Fit the grid_search to the data\n",
    "rf=RandomForestClassifier()\n",
    "grid_search=GridSearchCV(estimator=rf,param_grid=param_grid,cv=5,n_jobs=-1,verbose=2)\n",
    "grid_search.fit(X_train,y_train)\n"
   ]
  },
  {
   "cell_type": "code",
   "execution_count": 17,
   "id": "a2891f5e",
   "metadata": {},
   "outputs": [
    {
     "data": {
      "text/plain": [
       "RandomForestClassifier(criterion='entropy', max_depth=10, min_samples_leaf=6,\n",
       "                       min_samples_split=9, n_estimators=900)"
      ]
     },
     "execution_count": 17,
     "metadata": {},
     "output_type": "execute_result"
    }
   ],
   "source": [
    "grid_search.best_estimator_"
   ]
  },
  {
   "cell_type": "code",
   "execution_count": 18,
   "id": "e4fa43ce",
   "metadata": {},
   "outputs": [],
   "source": [
    "best_grid=grid_search.best_estimator_"
   ]
  },
  {
   "cell_type": "code",
   "execution_count": 20,
   "id": "663bee9d",
   "metadata": {},
   "outputs": [
    {
     "name": "stdout",
     "output_type": "stream",
     "text": [
      "              precision    recall  f1-score   support\n",
      "\n",
      "           0       0.77      0.88      0.82        99\n",
      "           1       0.71      0.53      0.60        55\n",
      "\n",
      "    accuracy                           0.75       154\n",
      "   macro avg       0.74      0.70      0.71       154\n",
      "weighted avg       0.75      0.75      0.74       154\n",
      "\n"
     ]
    }
   ],
   "source": [
    "y_pred = best_grid.predict(X_test)\n",
    "print(classification_report(y_test,y_pred))"
   ]
  },
  {
   "cell_type": "markdown",
   "id": "1d7c9ff2",
   "metadata": {},
   "source": [
    "### Optimize hyperparameters of the model using Optuna\n",
    "\n",
    "The hyperparameters of the above algorithm are `n_estimators` and `max_depth` for which we can try different values to see if the model accuracy can be improved. The `objective` function is modified to accept a trial object. This trial has several methods for sampling hyperparameters. We create a study to run the hyperparameter optimization and finally read the best hyperparameters."
   ]
  },
  {
   "cell_type": "code",
   "execution_count": 35,
   "id": "09be5e1e",
   "metadata": {
    "collapsed": true
   },
   "outputs": [
    {
     "name": "stdout",
     "output_type": "stream",
     "text": [
      "Collecting optuna\n",
      "  Downloading optuna-3.6.1-py3-none-any.whl (380 kB)\n",
      "     -------------------------------------- 380.1/380.1 kB 4.7 MB/s eta 0:00:00\n",
      "Requirement already satisfied: numpy in c:\\users\\administrator\\anaconda3\\lib\\site-packages (from optuna) (1.21.6)\n",
      "Collecting colorlog\n",
      "  Downloading colorlog-6.8.2-py3-none-any.whl (11 kB)\n",
      "Requirement already satisfied: tqdm in c:\\users\\administrator\\anaconda3\\lib\\site-packages (from optuna) (4.64.1)\n",
      "Requirement already satisfied: PyYAML in c:\\users\\administrator\\anaconda3\\lib\\site-packages (from optuna) (6.0)\n",
      "Requirement already satisfied: sqlalchemy>=1.3.0 in c:\\users\\administrator\\anaconda3\\lib\\site-packages (from optuna) (1.4.39)\n",
      "Requirement already satisfied: packaging>=20.0 in c:\\users\\administrator\\anaconda3\\lib\\site-packages (from optuna) (21.3)\n",
      "Collecting alembic>=1.5.0\n",
      "  Downloading alembic-1.13.2-py3-none-any.whl (232 kB)\n",
      "     -------------------------------------- 233.0/233.0 kB 7.2 MB/s eta 0:00:00\n",
      "Collecting Mako\n",
      "  Downloading Mako-1.3.5-py3-none-any.whl (78 kB)\n",
      "     ---------------------------------------- 78.6/78.6 kB ? eta 0:00:00\n",
      "Requirement already satisfied: typing-extensions>=4 in c:\\users\\administrator\\anaconda3\\lib\\site-packages (from alembic>=1.5.0->optuna) (4.12.2)\n",
      "Requirement already satisfied: pyparsing!=3.0.5,>=2.0.2 in c:\\users\\administrator\\anaconda3\\lib\\site-packages (from packaging>=20.0->optuna) (3.0.9)\n",
      "Requirement already satisfied: greenlet!=0.4.17 in c:\\users\\administrator\\anaconda3\\lib\\site-packages (from sqlalchemy>=1.3.0->optuna) (1.1.1)\n",
      "Requirement already satisfied: colorama in c:\\users\\administrator\\anaconda3\\lib\\site-packages (from colorlog->optuna) (0.4.6)\n",
      "Requirement already satisfied: MarkupSafe>=0.9.2 in c:\\users\\administrator\\anaconda3\\lib\\site-packages (from Mako->alembic>=1.5.0->optuna) (2.0.1)\n",
      "Installing collected packages: Mako, colorlog, alembic, optuna\n",
      "Successfully installed Mako-1.3.5 alembic-1.13.2 colorlog-6.8.2 optuna-3.6.1\n",
      "Note: you may need to restart the kernel to use updated packages.\n"
     ]
    },
    {
     "name": "stderr",
     "output_type": "stream",
     "text": [
      "WARNING: Ignoring invalid distribution -umpy (c:\\users\\administrator\\anaconda3\\lib\\site-packages)\n",
      "WARNING: Ignoring invalid distribution -ensorflow-intel (c:\\users\\administrator\\anaconda3\\lib\\site-packages)\n",
      "WARNING: Ignoring invalid distribution -umpy (c:\\users\\administrator\\anaconda3\\lib\\site-packages)\n",
      "WARNING: Ignoring invalid distribution -ensorflow-intel (c:\\users\\administrator\\anaconda3\\lib\\site-packages)\n",
      "WARNING: Ignoring invalid distribution -umpy (c:\\users\\administrator\\anaconda3\\lib\\site-packages)\n",
      "WARNING: Ignoring invalid distribution -ensorflow-intel (c:\\users\\administrator\\anaconda3\\lib\\site-packages)\n",
      "WARNING: Ignoring invalid distribution -umpy (c:\\users\\administrator\\anaconda3\\lib\\site-packages)\n",
      "WARNING: Ignoring invalid distribution -ensorflow-intel (c:\\users\\administrator\\anaconda3\\lib\\site-packages)\n",
      "WARNING: Ignoring invalid distribution -umpy (c:\\users\\administrator\\anaconda3\\lib\\site-packages)\n",
      "WARNING: Ignoring invalid distribution -ensorflow-intel (c:\\users\\administrator\\anaconda3\\lib\\site-packages)\n",
      "WARNING: Ignoring invalid distribution -umpy (c:\\users\\administrator\\anaconda3\\lib\\site-packages)\n",
      "WARNING: Ignoring invalid distribution -ensorflow-intel (c:\\users\\administrator\\anaconda3\\lib\\site-packages)\n",
      "WARNING: Ignoring invalid distribution -umpy (c:\\users\\administrator\\anaconda3\\lib\\site-packages)\n",
      "WARNING: Ignoring invalid distribution -ensorflow-intel (c:\\users\\administrator\\anaconda3\\lib\\site-packages)\n",
      "WARNING: Ignoring invalid distribution -umpy (c:\\users\\administrator\\anaconda3\\lib\\site-packages)\n",
      "WARNING: Ignoring invalid distribution -ensorflow-intel (c:\\users\\administrator\\anaconda3\\lib\\site-packages)\n",
      "WARNING: Ignoring invalid distribution -umpy (c:\\users\\administrator\\anaconda3\\lib\\site-packages)\n",
      "WARNING: Ignoring invalid distribution -ensorflow-intel (c:\\users\\administrator\\anaconda3\\lib\\site-packages)\n",
      "WARNING: Ignoring invalid distribution -umpy (c:\\users\\administrator\\anaconda3\\lib\\site-packages)\n",
      "WARNING: Ignoring invalid distribution -ensorflow-intel (c:\\users\\administrator\\anaconda3\\lib\\site-packages)\n"
     ]
    }
   ],
   "source": [
    "pip install optuna"
   ]
  },
  {
   "cell_type": "code",
   "execution_count": 37,
   "id": "44dcd925",
   "metadata": {},
   "outputs": [],
   "source": [
    "import optuna\n",
    "from sklearn.model_selection import train_test_split, cross_val_score\n",
    "from sklearn.ensemble import RandomForestClassifier\n",
    "from sklearn.svm import SVC\n",
    "def objective(trial):\n",
    "\n",
    "    classifier = trial.suggest_categorical('classifier', ['RandomForest', 'SVC'])\n",
    "    \n",
    "    if classifier == 'RandomForest':\n",
    "        n_estimators = trial.suggest_int('n_estimators', 200, 2000,10)\n",
    "        max_depth = int(trial.suggest_float('max_depth', 10, 100, log=True))\n",
    "\n",
    "        clf = RandomForestClassifier(\n",
    "            n_estimators=n_estimators, max_depth=max_depth)\n",
    "    else:\n",
    "        c = trial.suggest_float('svc_c', 1e-10, 1e10, log=True)\n",
    "        \n",
    "        clf = SVC(C=c, gamma='auto')\n",
    "\n",
    "    return cross_val_score(\n",
    "        clf,X_train,y_train, n_jobs=-1, cv=3).mean()\n"
   ]
  },
  {
   "cell_type": "code",
   "execution_count": 38,
   "id": "95dd115e",
   "metadata": {},
   "outputs": [
    {
     "name": "stderr",
     "output_type": "stream",
     "text": [
      "[I 2024-07-30 22:52:24,537] A new study created in memory with name: no-name-d78e2d6b-1437-4eb2-b7ec-413acff5b100\n",
      "[I 2024-07-30 22:52:28,510] Trial 0 finished with value: 0.7426510441575004 and parameters: {'classifier': 'RandomForest', 'n_estimators': 450, 'max_depth': 16.883285233816736}. Best is trial 0 with value: 0.7426510441575004.\n",
      "[I 2024-07-30 22:52:29,629] Trial 1 finished with value: 0.640068547744301 and parameters: {'classifier': 'SVC', 'svc_c': 76480.79522049085}. Best is trial 0 with value: 0.7426510441575004.\n",
      "[I 2024-07-30 22:52:30,600] Trial 2 finished with value: 0.640068547744301 and parameters: {'classifier': 'SVC', 'svc_c': 0.0003435850646260416}. Best is trial 0 with value: 0.7426510441575004.\n",
      "[I 2024-07-30 22:52:30,658] Trial 3 finished with value: 0.640068547744301 and parameters: {'classifier': 'SVC', 'svc_c': 198733292.4538164}. Best is trial 0 with value: 0.7426510441575004.\n",
      "[I 2024-07-30 22:52:30,708] Trial 4 finished with value: 0.640068547744301 and parameters: {'classifier': 'SVC', 'svc_c': 804084738.3522717}. Best is trial 0 with value: 0.7426510441575004.\n",
      "[I 2024-07-30 22:52:30,763] Trial 5 finished with value: 0.640068547744301 and parameters: {'classifier': 'SVC', 'svc_c': 10252326.763844514}. Best is trial 0 with value: 0.7426510441575004.\n",
      "[I 2024-07-30 22:52:34,358] Trial 6 finished with value: 0.7459190180137095 and parameters: {'classifier': 'RandomForest', 'n_estimators': 1660, 'max_depth': 16.37987002152405}. Best is trial 6 with value: 0.7459190180137095.\n",
      "[I 2024-07-30 22:52:41,490] Trial 7 finished with value: 0.7508050374621393 and parameters: {'classifier': 'RandomForest', 'n_estimators': 1720, 'max_depth': 58.1397868048534}. Best is trial 7 with value: 0.7508050374621393.\n",
      "[I 2024-07-30 22:52:41,571] Trial 8 finished with value: 0.640068547744301 and parameters: {'classifier': 'SVC', 'svc_c': 349591.21545593813}. Best is trial 7 with value: 0.7508050374621393.\n",
      "[I 2024-07-30 22:52:49,132] Trial 9 finished with value: 0.7524310537223019 and parameters: {'classifier': 'RandomForest', 'n_estimators': 1890, 'max_depth': 33.13430235903078}. Best is trial 9 with value: 0.7524310537223019.\n",
      "[I 2024-07-30 22:52:57,329] Trial 10 finished with value: 0.75242308305436 and parameters: {'classifier': 'RandomForest', 'n_estimators': 2000, 'max_depth': 45.35826726860364}. Best is trial 9 with value: 0.7524310537223019.\n",
      "[I 2024-07-30 22:53:05,472] Trial 11 finished with value: 0.7508050374621393 and parameters: {'classifier': 'RandomForest', 'n_estimators': 2000, 'max_depth': 44.901393096981614}. Best is trial 9 with value: 0.7524310537223019.\n",
      "[I 2024-07-30 22:53:10,560] Trial 12 finished with value: 0.7540570699824646 and parameters: {'classifier': 'RandomForest', 'n_estimators': 1220, 'max_depth': 30.888966891164902}. Best is trial 12 with value: 0.7540570699824646.\n",
      "[I 2024-07-30 22:53:15,142] Trial 13 finished with value: 0.7475370636059302 and parameters: {'classifier': 'RandomForest', 'n_estimators': 1170, 'max_depth': 27.654023346516638}. Best is trial 12 with value: 0.7540570699824646.\n",
      "[I 2024-07-30 22:53:19,374] Trial 14 finished with value: 0.7524390243902439 and parameters: {'classifier': 'RandomForest', 'n_estimators': 1040, 'max_depth': 99.48409561559343}. Best is trial 12 with value: 0.7540570699824646.\n",
      "[I 2024-07-30 22:53:23,514] Trial 15 finished with value: 0.7475370636059302 and parameters: {'classifier': 'RandomForest', 'n_estimators': 1020, 'max_depth': 91.72520449354694}. Best is trial 12 with value: 0.7540570699824646.\n",
      "[I 2024-07-30 22:53:28,056] Trial 16 finished with value: 0.744285031085605 and parameters: {'classifier': 'RandomForest', 'n_estimators': 1110, 'max_depth': 90.17609183984268}. Best is trial 12 with value: 0.7540570699824646.\n",
      "[I 2024-07-30 22:53:31,094] Trial 17 finished with value: 0.7491790212019768 and parameters: {'classifier': 'RandomForest', 'n_estimators': 760, 'max_depth': 25.32443985129324}. Best is trial 12 with value: 0.7540570699824646.\n",
      "[I 2024-07-30 22:53:36,908] Trial 18 finished with value: 0.7524310537223019 and parameters: {'classifier': 'RandomForest', 'n_estimators': 1400, 'max_depth': 10.92730634368475}. Best is trial 12 with value: 0.7540570699824646.\n",
      "[I 2024-07-30 22:53:39,972] Trial 19 finished with value: 0.7524310537223019 and parameters: {'classifier': 'RandomForest', 'n_estimators': 700, 'max_depth': 56.937036192187826}. Best is trial 12 with value: 0.7540570699824646.\n",
      "[I 2024-07-30 22:53:45,596] Trial 20 finished with value: 0.7540650406504065 and parameters: {'classifier': 'RandomForest', 'n_estimators': 1350, 'max_depth': 18.99730487164004}. Best is trial 20 with value: 0.7540650406504065.\n",
      "[I 2024-07-30 22:53:50,891] Trial 21 finished with value: 0.7459269886816515 and parameters: {'classifier': 'RandomForest', 'n_estimators': 1320, 'max_depth': 18.48369744891551}. Best is trial 20 with value: 0.7540650406504065.\n",
      "[I 2024-07-30 22:53:56,656] Trial 22 finished with value: 0.7508050374621393 and parameters: {'classifier': 'RandomForest', 'n_estimators': 1430, 'max_depth': 21.482848604779218}. Best is trial 20 with value: 0.7540650406504065.\n",
      "[I 2024-07-30 22:54:00,443] Trial 23 finished with value: 0.7524390243902439 and parameters: {'classifier': 'RandomForest', 'n_estimators': 960, 'max_depth': 11.889739717928991}. Best is trial 20 with value: 0.7540650406504065.\n",
      "[I 2024-07-30 22:54:03,776] Trial 24 finished with value: 0.7508050374621393 and parameters: {'classifier': 'RandomForest', 'n_estimators': 860, 'max_depth': 35.501625887513896}. Best is trial 20 with value: 0.7540650406504065.\n",
      "[I 2024-07-30 22:54:08,340] Trial 25 finished with value: 0.7426669854933844 and parameters: {'classifier': 'RandomForest', 'n_estimators': 1260, 'max_depth': 70.60733796047519}. Best is trial 20 with value: 0.7540650406504065.\n",
      "[I 2024-07-30 22:54:14,459] Trial 26 finished with value: 0.7507970667941973 and parameters: {'classifier': 'RandomForest', 'n_estimators': 1600, 'max_depth': 39.67848970067675}. Best is trial 20 with value: 0.7540650406504065.\n",
      "[I 2024-07-30 22:54:16,629] Trial 27 finished with value: 0.7524310537223019 and parameters: {'classifier': 'RandomForest', 'n_estimators': 540, 'max_depth': 24.498624975554605}. Best is trial 20 with value: 0.7540650406504065.\n",
      "[I 2024-07-30 22:54:17,670] Trial 28 finished with value: 0.7507970667941973 and parameters: {'classifier': 'RandomForest', 'n_estimators': 280, 'max_depth': 13.556080998099228}. Best is trial 20 with value: 0.7540650406504065.\n",
      "[I 2024-07-30 22:54:23,237] Trial 29 finished with value: 0.7524390243902439 and parameters: {'classifier': 'RandomForest', 'n_estimators': 1500, 'max_depth': 20.81384637913479}. Best is trial 20 with value: 0.7540650406504065.\n",
      "[I 2024-07-30 22:54:27,583] Trial 30 finished with value: 0.7475609756097561 and parameters: {'classifier': 'RandomForest', 'n_estimators': 1170, 'max_depth': 29.033186781100692}. Best is trial 20 with value: 0.7540650406504065.\n",
      "[I 2024-07-30 22:54:31,316] Trial 31 finished with value: 0.7508050374621393 and parameters: {'classifier': 'RandomForest', 'n_estimators': 960, 'max_depth': 10.270892818932866}. Best is trial 20 with value: 0.7540650406504065.\n",
      "[I 2024-07-30 22:54:35,054] Trial 32 finished with value: 0.75242308305436 and parameters: {'classifier': 'RandomForest', 'n_estimators': 940, 'max_depth': 13.781651829130654}. Best is trial 20 with value: 0.7540650406504065.\n",
      "[I 2024-07-30 22:54:39,947] Trial 33 finished with value: 0.7524310537223019 and parameters: {'classifier': 'RandomForest', 'n_estimators': 1260, 'max_depth': 13.081174521360769}. Best is trial 20 with value: 0.7540650406504065.\n",
      "[I 2024-07-30 22:54:40,041] Trial 34 finished with value: 0.640068547744301 and parameters: {'classifier': 'SVC', 'svc_c': 2.736728715191739e-10}. Best is trial 20 with value: 0.7540650406504065.\n",
      "[I 2024-07-30 22:54:40,145] Trial 35 finished with value: 0.640068547744301 and parameters: {'classifier': 'SVC', 'svc_c': 0.35620874984925466}. Best is trial 20 with value: 0.7540650406504065.\n",
      "[I 2024-07-30 22:54:43,249] Trial 36 finished with value: 0.7442770604176631 and parameters: {'classifier': 'RandomForest', 'n_estimators': 820, 'max_depth': 11.781416723700463}. Best is trial 20 with value: 0.7540650406504065.\n"
     ]
    },
    {
     "name": "stderr",
     "output_type": "stream",
     "text": [
      "[I 2024-07-30 22:54:43,334] Trial 37 finished with value: 0.640068547744301 and parameters: {'classifier': 'SVC', 'svc_c': 1.3366280893522467e-08}. Best is trial 20 with value: 0.7540650406504065.\n",
      "[I 2024-07-30 22:54:47,517] Trial 38 finished with value: 0.7524469950581859 and parameters: {'classifier': 'RandomForest', 'n_estimators': 1090, 'max_depth': 14.89887173153547}. Best is trial 20 with value: 0.7540650406504065.\n",
      "[I 2024-07-30 22:54:47,626] Trial 39 finished with value: 0.640068547744301 and parameters: {'classifier': 'SVC', 'svc_c': 41.51696027596643}. Best is trial 20 with value: 0.7540650406504065.\n",
      "[I 2024-07-30 22:54:50,289] Trial 40 finished with value: 0.7491790212019768 and parameters: {'classifier': 'RandomForest', 'n_estimators': 650, 'max_depth': 15.442067598999373}. Best is trial 20 with value: 0.7540650406504065.\n",
      "[I 2024-07-30 22:54:54,228] Trial 41 finished with value: 0.7524390243902439 and parameters: {'classifier': 'RandomForest', 'n_estimators': 1070, 'max_depth': 18.55044243206011}. Best is trial 20 with value: 0.7540650406504065.\n",
      "[I 2024-07-30 22:54:59,010] Trial 42 finished with value: 0.7507970667941973 and parameters: {'classifier': 'RandomForest', 'n_estimators': 1240, 'max_depth': 15.913147117409038}. Best is trial 20 with value: 0.7540650406504065.\n",
      "[I 2024-07-30 22:55:02,706] Trial 43 finished with value: 0.7491869918699187 and parameters: {'classifier': 'RandomForest', 'n_estimators': 940, 'max_depth': 12.151068788614689}. Best is trial 20 with value: 0.7540650406504065.\n",
      "[I 2024-07-30 22:55:08,069] Trial 44 finished with value: 0.7508050374621393 and parameters: {'classifier': 'RandomForest', 'n_estimators': 1370, 'max_depth': 14.760400251098256}. Best is trial 20 with value: 0.7540650406504065.\n",
      "[I 2024-07-30 22:55:13,897] Trial 45 finished with value: 0.7508050374621393 and parameters: {'classifier': 'RandomForest', 'n_estimators': 1530, 'max_depth': 17.74524206919346}. Best is trial 20 with value: 0.7540650406504065.\n",
      "[I 2024-07-30 22:55:20,713] Trial 46 finished with value: 0.7459269886816515 and parameters: {'classifier': 'RandomForest', 'n_estimators': 1750, 'max_depth': 22.088672803336983}. Best is trial 20 with value: 0.7540650406504065.\n",
      "[I 2024-07-30 22:55:25,057] Trial 47 finished with value: 0.7573170731707317 and parameters: {'classifier': 'RandomForest', 'n_estimators': 1100, 'max_depth': 35.15314095408542}. Best is trial 47 with value: 0.7573170731707317.\n",
      "[I 2024-07-30 22:55:25,151] Trial 48 finished with value: 0.640068547744301 and parameters: {'classifier': 'SVC', 'svc_c': 7.912720453915471e-05}. Best is trial 47 with value: 0.7573170731707317.\n",
      "[I 2024-07-30 22:55:29,534] Trial 49 finished with value: 0.7540650406504065 and parameters: {'classifier': 'RandomForest', 'n_estimators': 1120, 'max_depth': 61.47213764281731}. Best is trial 47 with value: 0.7573170731707317.\n",
      "[I 2024-07-30 22:55:34,023] Trial 50 finished with value: 0.7573170731707317 and parameters: {'classifier': 'RandomForest', 'n_estimators': 1150, 'max_depth': 54.017591914895334}. Best is trial 47 with value: 0.7573170731707317.\n",
      "[I 2024-07-30 22:55:38,864] Trial 51 finished with value: 0.7524390243902439 and parameters: {'classifier': 'RandomForest', 'n_estimators': 1160, 'max_depth': 53.295611105653514}. Best is trial 47 with value: 0.7573170731707317.\n",
      "[I 2024-07-30 22:55:43,116] Trial 52 finished with value: 0.7524310537223019 and parameters: {'classifier': 'RandomForest', 'n_estimators': 1200, 'max_depth': 68.23689126734342}. Best is trial 47 with value: 0.7573170731707317.\n",
      "[I 2024-07-30 22:55:48,126] Trial 53 finished with value: 0.7459269886816515 and parameters: {'classifier': 'RandomForest', 'n_estimators': 1310, 'max_depth': 47.600495529260826}. Best is trial 47 with value: 0.7573170731707317.\n",
      "[I 2024-07-30 22:55:52,577] Trial 54 finished with value: 0.744300972421489 and parameters: {'classifier': 'RandomForest', 'n_estimators': 1100, 'max_depth': 66.21795072364048}. Best is trial 47 with value: 0.7573170731707317.\n",
      "[I 2024-07-30 22:55:56,845] Trial 55 finished with value: 0.7524310537223019 and parameters: {'classifier': 'RandomForest', 'n_estimators': 1030, 'max_depth': 40.31187937605666}. Best is trial 47 with value: 0.7573170731707317.\n",
      "[I 2024-07-30 22:56:01,128] Trial 56 finished with value: 0.7508130081300813 and parameters: {'classifier': 'RandomForest', 'n_estimators': 1130, 'max_depth': 78.61331914130479}. Best is trial 47 with value: 0.7573170731707317.\n",
      "[I 2024-07-30 22:56:06,268] Trial 57 finished with value: 0.7589430894308943 and parameters: {'classifier': 'RandomForest', 'n_estimators': 1340, 'max_depth': 32.044505677899814}. Best is trial 57 with value: 0.7589430894308943.\n",
      "[I 2024-07-30 22:56:11,588] Trial 58 finished with value: 0.744300972421489 and parameters: {'classifier': 'RandomForest', 'n_estimators': 1450, 'max_depth': 32.69550737243156}. Best is trial 57 with value: 0.7589430894308943.\n",
      "[I 2024-07-30 22:56:16,451] Trial 59 finished with value: 0.7540650406504065 and parameters: {'classifier': 'RandomForest', 'n_estimators': 1350, 'max_depth': 36.385270011461586}. Best is trial 57 with value: 0.7589430894308943.\n",
      "[I 2024-07-30 22:56:21,667] Trial 60 finished with value: 0.7573250438386737 and parameters: {'classifier': 'RandomForest', 'n_estimators': 1340, 'max_depth': 36.92568442537138}. Best is trial 57 with value: 0.7589430894308943.\n",
      "[I 2024-07-30 22:56:27,274] Trial 61 finished with value: 0.7491790212019768 and parameters: {'classifier': 'RandomForest', 'n_estimators': 1370, 'max_depth': 38.36464022996282}. Best is trial 57 with value: 0.7589430894308943.\n",
      "[I 2024-07-30 22:56:33,722] Trial 62 finished with value: 0.7540570699824646 and parameters: {'classifier': 'RandomForest', 'n_estimators': 1570, 'max_depth': 35.09763743062679}. Best is trial 57 with value: 0.7589430894308943.\n",
      "[I 2024-07-30 22:56:39,229] Trial 63 finished with value: 0.7507970667941973 and parameters: {'classifier': 'RandomForest', 'n_estimators': 1320, 'max_depth': 50.16551292690205}. Best is trial 57 with value: 0.7589430894308943.\n",
      "[I 2024-07-30 22:56:45,123] Trial 64 finished with value: 0.744293001753547 and parameters: {'classifier': 'RandomForest', 'n_estimators': 1470, 'max_depth': 44.66913665726069}. Best is trial 57 with value: 0.7589430894308943.\n",
      "[I 2024-07-30 22:56:51,900] Trial 65 finished with value: 0.7508050374621393 and parameters: {'classifier': 'RandomForest', 'n_estimators': 1680, 'max_depth': 60.904885197407836}. Best is trial 57 with value: 0.7589430894308943.\n",
      "[I 2024-07-30 22:56:57,346] Trial 66 finished with value: 0.7524310537223019 and parameters: {'classifier': 'RandomForest', 'n_estimators': 1310, 'max_depth': 29.59578807037361}. Best is trial 57 with value: 0.7589430894308943.\n",
      "[I 2024-07-30 22:57:02,940] Trial 67 finished with value: 0.7491790212019768 and parameters: {'classifier': 'RandomForest', 'n_estimators': 1380, 'max_depth': 43.00244826334925}. Best is trial 57 with value: 0.7589430894308943.\n",
      "[I 2024-07-30 22:57:07,856] Trial 68 finished with value: 0.7556830862426271 and parameters: {'classifier': 'RandomForest', 'n_estimators': 1230, 'max_depth': 36.17034250681461}. Best is trial 57 with value: 0.7589430894308943.\n",
      "[I 2024-07-30 22:57:08,013] Trial 69 finished with value: 0.640068547744301 and parameters: {'classifier': 'SVC', 'svc_c': 1239.7717393604914}. Best is trial 57 with value: 0.7589430894308943.\n",
      "[I 2024-07-30 22:57:13,053] Trial 70 finished with value: 0.7426749561613263 and parameters: {'classifier': 'RandomForest', 'n_estimators': 1220, 'max_depth': 27.738578675178744}. Best is trial 57 with value: 0.7589430894308943.\n",
      "[I 2024-07-30 22:57:18,385] Trial 71 finished with value: 0.7573170731707317 and parameters: {'classifier': 'RandomForest', 'n_estimators': 1290, 'max_depth': 35.298108066648425}. Best is trial 57 with value: 0.7589430894308943.\n",
      "[I 2024-07-30 22:57:23,197] Trial 72 finished with value: 0.7491630798660928 and parameters: {'classifier': 'RandomForest', 'n_estimators': 1230, 'max_depth': 32.12342589254959}. Best is trial 57 with value: 0.7589430894308943.\n",
      "[I 2024-07-30 22:57:27,327] Trial 73 finished with value: 0.7491710505340348 and parameters: {'classifier': 'RandomForest', 'n_estimators': 1000, 'max_depth': 25.974511279203757}. Best is trial 57 with value: 0.7589430894308943.\n"
     ]
    },
    {
     "name": "stderr",
     "output_type": "stream",
     "text": [
      "[I 2024-07-30 22:57:32,369] Trial 74 finished with value: 0.7491710505340348 and parameters: {'classifier': 'RandomForest', 'n_estimators': 1280, 'max_depth': 34.454196364528336}. Best is trial 57 with value: 0.7589430894308943.\n",
      "[I 2024-07-30 22:57:37,253] Trial 75 finished with value: 0.7556830862426271 and parameters: {'classifier': 'RandomForest', 'n_estimators': 1150, 'max_depth': 41.17261349614281}. Best is trial 57 with value: 0.7589430894308943.\n",
      "[I 2024-07-30 22:57:43,237] Trial 76 finished with value: 0.7459030766778256 and parameters: {'classifier': 'RandomForest', 'n_estimators': 1430, 'max_depth': 42.17100213037251}. Best is trial 57 with value: 0.7589430894308943.\n",
      "[I 2024-07-30 22:57:47,811] Trial 77 finished with value: 0.7475530049418141 and parameters: {'classifier': 'RandomForest', 'n_estimators': 1170, 'max_depth': 37.64200653389861}. Best is trial 57 with value: 0.7589430894308943.\n",
      "[I 2024-07-30 22:57:52,988] Trial 78 finished with value: 0.7491790212019768 and parameters: {'classifier': 'RandomForest', 'n_estimators': 1280, 'max_depth': 30.696737978733857}. Best is trial 57 with value: 0.7589430894308943.\n",
      "[I 2024-07-30 22:57:57,120] Trial 79 finished with value: 0.7508050374621393 and parameters: {'classifier': 'RandomForest', 'n_estimators': 1050, 'max_depth': 47.916341296865355}. Best is trial 57 with value: 0.7589430894308943.\n",
      "[I 2024-07-30 22:57:57,196] Trial 80 finished with value: 0.640068547744301 and parameters: {'classifier': 'SVC', 'svc_c': 6.068577495496781e-06}. Best is trial 57 with value: 0.7589430894308943.\n",
      "[I 2024-07-30 22:58:01,352] Trial 81 finished with value: 0.7573091025027897 and parameters: {'classifier': 'RandomForest', 'n_estimators': 1110, 'max_depth': 52.25029110776843}. Best is trial 57 with value: 0.7589430894308943.\n",
      "[I 2024-07-30 22:58:06,203] Trial 82 finished with value: 0.744293001753547 and parameters: {'classifier': 'RandomForest', 'n_estimators': 1200, 'max_depth': 54.565305523210576}. Best is trial 57 with value: 0.7589430894308943.\n",
      "[I 2024-07-30 22:58:09,829] Trial 83 finished with value: 0.7491790212019768 and parameters: {'classifier': 'RandomForest', 'n_estimators': 900, 'max_depth': 41.03962374599357}. Best is trial 57 with value: 0.7589430894308943.\n",
      "[I 2024-07-30 22:58:14,588] Trial 84 finished with value: 0.7540570699824646 and parameters: {'classifier': 'RandomForest', 'n_estimators': 1140, 'max_depth': 33.77814854926634}. Best is trial 57 with value: 0.7589430894308943.\n",
      "[I 2024-07-30 22:58:20,040] Trial 85 finished with value: 0.7475530049418141 and parameters: {'classifier': 'RandomForest', 'n_estimators': 1410, 'max_depth': 51.02901718119539}. Best is trial 57 with value: 0.7589430894308943.\n",
      "[I 2024-07-30 22:58:24,169] Trial 86 finished with value: 0.7475450342738722 and parameters: {'classifier': 'RandomForest', 'n_estimators': 1000, 'max_depth': 45.815149761284935}. Best is trial 57 with value: 0.7589430894308943.\n",
      "[I 2024-07-30 22:58:30,252] Trial 87 finished with value: 0.7556830862426271 and parameters: {'classifier': 'RandomForest', 'n_estimators': 1520, 'max_depth': 38.528954753601674}. Best is trial 57 with value: 0.7589430894308943.\n",
      "[I 2024-07-30 22:58:36,038] Trial 88 finished with value: 0.7556830862426271 and parameters: {'classifier': 'RandomForest', 'n_estimators': 1520, 'max_depth': 37.923105194106654}. Best is trial 57 with value: 0.7589430894308943.\n",
      "[I 2024-07-30 22:58:42,429] Trial 89 finished with value: 0.7508130081300813 and parameters: {'classifier': 'RandomForest', 'n_estimators': 1580, 'max_depth': 31.793185092491196}. Best is trial 57 with value: 0.7589430894308943.\n",
      "[I 2024-07-30 22:58:50,036] Trial 90 finished with value: 0.7475450342738722 and parameters: {'classifier': 'RandomForest', 'n_estimators': 1890, 'max_depth': 36.1769339988718}. Best is trial 57 with value: 0.7589430894308943.\n",
      "[I 2024-07-30 22:58:57,070] Trial 91 finished with value: 0.7508050374621393 and parameters: {'classifier': 'RandomForest', 'n_estimators': 1750, 'max_depth': 39.29485214053904}. Best is trial 57 with value: 0.7589430894308943.\n",
      "[I 2024-07-30 22:59:02,267] Trial 92 finished with value: 0.7524390243902439 and parameters: {'classifier': 'RandomForest', 'n_estimators': 1510, 'max_depth': 43.46054314929982}. Best is trial 57 with value: 0.7589430894308943.\n",
      "[I 2024-07-30 22:59:08,620] Trial 93 finished with value: 0.7491869918699187 and parameters: {'classifier': 'RandomForest', 'n_estimators': 1620, 'max_depth': 37.49053082804268}. Best is trial 57 with value: 0.7589430894308943.\n",
      "[I 2024-07-30 22:59:13,062] Trial 94 finished with value: 0.7475370636059302 and parameters: {'classifier': 'RandomForest', 'n_estimators': 1100, 'max_depth': 27.722031557518754}. Best is trial 57 with value: 0.7589430894308943.\n",
      "[I 2024-07-30 22:59:18,002] Trial 95 finished with value: 0.75242308305436 and parameters: {'classifier': 'RandomForest', 'n_estimators': 1270, 'max_depth': 33.7528892955621}. Best is trial 57 with value: 0.7589430894308943.\n",
      "[I 2024-07-30 22:59:22,717] Trial 96 finished with value: 0.7540650406504065 and parameters: {'classifier': 'RandomForest', 'n_estimators': 1190, 'max_depth': 30.129854809617612}. Best is trial 57 with value: 0.7589430894308943.\n",
      "[I 2024-07-30 22:59:22,859] Trial 97 finished with value: 0.640068547744301 and parameters: {'classifier': 'SVC', 'svc_c': 0.05272897839051818}. Best is trial 57 with value: 0.7589430894308943.\n",
      "[I 2024-07-30 22:59:28,723] Trial 98 finished with value: 0.7459190180137095 and parameters: {'classifier': 'RandomForest', 'n_estimators': 1540, 'max_depth': 40.672418368255144}. Best is trial 57 with value: 0.7589430894308943.\n",
      "[I 2024-07-30 22:59:34,779] Trial 99 finished with value: 0.7507970667941973 and parameters: {'classifier': 'RandomForest', 'n_estimators': 1640, 'max_depth': 47.04122117100982}. Best is trial 57 with value: 0.7589430894308943.\n"
     ]
    },
    {
     "name": "stdout",
     "output_type": "stream",
     "text": [
      "Accuracy: 0.7589430894308943\n",
      "Best hyperparameters: {'classifier': 'RandomForest', 'n_estimators': 1340, 'max_depth': 32.044505677899814}\n"
     ]
    }
   ],
   "source": [
    "study = optuna.create_study(direction='maximize')\n",
    "study.optimize(objective, n_trials=100)\n",
    "\n",
    "trial = study.best_trial\n",
    "\n",
    "print('Accuracy: {}'.format(trial.value))\n",
    "print(\"Best hyperparameters: {}\".format(trial.params))"
   ]
  },
  {
   "cell_type": "code",
   "execution_count": 39,
   "id": "80bc26b8",
   "metadata": {},
   "outputs": [
    {
     "data": {
      "text/plain": [
       "{'classifier': 'RandomForest',\n",
       " 'n_estimators': 1340,\n",
       " 'max_depth': 32.044505677899814}"
      ]
     },
     "execution_count": 39,
     "metadata": {},
     "output_type": "execute_result"
    }
   ],
   "source": [
    "study.best_params"
   ]
  },
  {
   "cell_type": "code",
   "execution_count": 40,
   "id": "bad28724",
   "metadata": {},
   "outputs": [
    {
     "data": {
      "text/plain": [
       "RandomForestClassifier(max_depth=32.044505677899814, n_estimators=1340)"
      ]
     },
     "execution_count": 40,
     "metadata": {},
     "output_type": "execute_result"
    }
   ],
   "source": [
    "rf=RandomForestClassifier(n_estimators=1340,max_depth=32.044505677899814)\n",
    "rf.fit(X_train,y_train)"
   ]
  },
  {
   "cell_type": "code",
   "execution_count": 41,
   "id": "d0b7ecd7",
   "metadata": {},
   "outputs": [
    {
     "name": "stdout",
     "output_type": "stream",
     "text": [
      "[[94 13]\n",
      " [14 33]]\n",
      "0.8246753246753247\n",
      "              precision    recall  f1-score   support\n",
      "\n",
      "           0       0.87      0.88      0.87       107\n",
      "           1       0.72      0.70      0.71        47\n",
      "\n",
      "    accuracy                           0.82       154\n",
      "   macro avg       0.79      0.79      0.79       154\n",
      "weighted avg       0.82      0.82      0.82       154\n",
      "\n"
     ]
    }
   ],
   "source": [
    "y_pred=rf.predict(X_test)\n",
    "print(confusion_matrix(y_test,y_pred))\n",
    "print(accuracy_score(y_test,y_pred))\n",
    "print(classification_report(y_test,y_pred))"
   ]
  },
  {
   "cell_type": "code",
   "execution_count": null,
   "id": "55ca04e7",
   "metadata": {},
   "outputs": [],
   "source": []
  }
 ],
 "metadata": {
  "kernelspec": {
   "display_name": "Python 3 (ipykernel)",
   "language": "python",
   "name": "python3"
  },
  "language_info": {
   "codemirror_mode": {
    "name": "ipython",
    "version": 3
   },
   "file_extension": ".py",
   "mimetype": "text/x-python",
   "name": "python",
   "nbconvert_exporter": "python",
   "pygments_lexer": "ipython3",
   "version": "3.9.13"
  }
 },
 "nbformat": 4,
 "nbformat_minor": 5
}
